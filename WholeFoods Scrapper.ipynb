{
 "cells": [
  {
   "cell_type": "markdown",
   "metadata": {},
   "source": [
    "## Whole Foods Purchase List Scrapper\n",
    "\n",
    "The following code is developed to get details of your past purchases from Whole Foods. It will work if you have an amazon prime account and use the code everytime you use the code while making a purchase."
   ]
  },
  {
   "cell_type": "code",
   "execution_count": 269,
   "metadata": {},
   "outputs": [],
   "source": [
    "from selenium import webdriver\n",
    "from selenium.webdriver.common.keys import Keys\n",
    "from bs4 import BeautifulSoup\n",
    "import pandas as pd"
   ]
  },
  {
   "cell_type": "code",
   "execution_count": 270,
   "metadata": {},
   "outputs": [],
   "source": [
    "url='https://www.amazon.com/afx/lists/pastpurchases/?_encoding=UTF8&almBrandId=VUZHIFdob2xlIEZvb2Rz&ref_=sv_wfm_1'\n"
   ]
  },
  {
   "cell_type": "code",
   "execution_count": 280,
   "metadata": {},
   "outputs": [
    {
     "name": "stdout",
     "output_type": "stream",
     "text": [
      "a-page\n",
      "authportal-center-section\n",
      "authportal-main-section\n",
      "auth-cookie-warning-message\n",
      "ap_email\n",
      "auth-email-missing-alert\n",
      "auth-fpp-link-bottom\n",
      "ap_password\n",
      "auth-password-missing-alert\n",
      "a-autoid-0\n",
      "signInSubmit\n",
      "a-autoid-0-announce\n",
      "legalTextRow\n",
      "remember_me_learn_more_link\n",
      "auth-create-account-link\n",
      "createAccountSubmit\n",
      "right-2\n",
      "auth-external-javascript\n",
      "be\n"
     ]
    }
   ],
   "source": [
    "driver = webdriver.Firefox()\n",
    "driver.implicitly_wait(30)\n",
    "driver.get(url)\n",
    "\n",
    "#To get details of id_name of username, password fields and submit action\n",
    "ids = driver.find_elements_by_xpath('//*[@id]')\n",
    "for i in ids:\n",
    "    print (i.get_attribute('id'))"
   ]
  },
  {
   "cell_type": "markdown",
   "metadata": {},
   "source": [
    "## Login\n",
    "The username and password class fields are named differently for different websites\n"
   ]
  },
  {
   "cell_type": "code",
   "execution_count": 281,
   "metadata": {},
   "outputs": [],
   "source": [
    "username = driver.find_element_by_id(\"ap_email\")\n",
    "password = driver.find_element_by_id(\"ap_password\")\n",
    "\n",
    "username.send_keys(\"Enter your email here\")\n",
    "password.send_keys(\"Enter your password here\")\n",
    "\n",
    "form=driver.find_element_by_id(\"signInSubmit\")\n",
    "form.submit()\n",
    "\n"
   ]
  },
  {
   "cell_type": "code",
   "execution_count": 282,
   "metadata": {},
   "outputs": [],
   "source": [
    "#Link to the Past Purchases Page of Whole Foods\n",
    "#url='https://www.amazon.com/afx/lists/pastpurchases/?_encoding=UTF8&almBrandId=VUZHIFdob2xlIEZvb2Rz&ref_=sv_wfm_1'\n",
    "\n",
    "\n",
    "#Select recently purchased from dropdown to sort based on purchase dates\n",
    "driver.find_element_by_class_name(\"a-dropdown-prompt\").click()\n",
    "driver.find_element_by_id(\"afx-lists-sort_1\").click()\n"
   ]
  },
  {
   "cell_type": "code",
   "execution_count": null,
   "metadata": {},
   "outputs": [],
   "source": []
  },
  {
   "cell_type": "code",
   "execution_count": 285,
   "metadata": {},
   "outputs": [
    {
     "name": "stdout",
     "output_type": "stream",
     "text": [
      "Total items in history:47\n"
     ]
    }
   ],
   "source": [
    "#asinWrapper is the smallest item container that contains product information\n",
    "items=len(driver.find_elements_by_class_name(\"asinWrapper\"))\n",
    "print('Total items in history:'+ str(items))"
   ]
  },
  {
   "cell_type": "code",
   "execution_count": null,
   "metadata": {},
   "outputs": [],
   "source": [
    "##If using Selenium for parsing \n",
    "#grocerylist=[]\n",
    "\n",
    "# purchases=driver.find_elements_by_class_name(\"asinWrapper\")\n",
    "# for purchase in purchases:\n",
    "#     name=purchase.find_element_by_class_name(\"asinTitle\").text\n",
    "#     price_elements = purchase.find_elements_by_class_name(\"a-color-price\")\n",
    "    \n",
    "#     prices = [\"NA\", \"NA\"]\n",
    "#     for i in range(len(price_elements)):\n",
    "#          prices[i] = price_elements[i].get_text().strip()\n",
    "    \n",
    "#     new_item=(name,prices[0],prices[1])\n",
    "#    grocerylist.append(new_item)\n",
    "    \n",
    "# df = pd.DataFrame(grocerylist,columns=['name','price','unitprice'])\n",
    "# print(df)\n",
    "#df.to_csv('quoted.csv')\n",
    "#driver.close()"
   ]
  },
  {
   "cell_type": "markdown",
   "metadata": {},
   "source": [
    "## Handover the parser to beautifulsoup"
   ]
  },
  {
   "cell_type": "code",
   "execution_count": 286,
   "metadata": {},
   "outputs": [],
   "source": [
    "bs_obj = BeautifulSoup(driver.page_source, 'html.parser')\n",
    "#print(bs_obj)"
   ]
  },
  {
   "cell_type": "code",
   "execution_count": 287,
   "metadata": {},
   "outputs": [
    {
     "name": "stdout",
     "output_type": "stream",
     "text": [
      "                           ItemInfo1  \\\n",
      "1                           Frontier   \n",
      "2                     Organic Valley   \n",
      "3                 365 Everyday Value   \n",
      "4                 365 Everyday Value   \n",
      "5         Avocado Hass Large Organic   \n",
      "6            Zucchini Squash Organic   \n",
      "7  Yellow Straighneck Squash Organic   \n",
      "\n",
      "                                     ItemInfo2            ItemInfo3  \\\n",
      "1                                 Curry Powder            0.5 Ounce   \n",
      "2                           Organic Whole Milk   Pasteurized Gallon   \n",
      "3   Organic Canola Oil Non-Stick Cooking Spray              5 fl oz   \n",
      "4                                Organic Basil              0.46 oz   \n",
      "5                                       1 Each                   NA   \n",
      "6                                       1 Each                   NA   \n",
      "7                                       1 Each                   NA   \n",
      "\n",
      "     ItemInfo4       price      unitprice  \n",
      "1           NA       $1.99  ($3.98/Ounce)  \n",
      "2   128 ounces       $6.49  ($0.05/Fl Oz)  \n",
      "3           NA       $4.99  ($1.00/Fl Oz)  \n",
      "4           NA       $3.99  ($8.67/Ounce)  \n",
      "5           NA       $1.50             NA  \n",
      "6           NA  est. $1.67     ($2.99/lb)  \n",
      "7           NA  est. $1.23     ($2.99/lb)  \n"
     ]
    }
   ],
   "source": [
    "grocerylist=[]\n",
    "my_items=(bs_obj.find_all(\"div\",{\"class\":\"asinWrapper\"}))\n",
    "\n",
    "for item in my_items:\n",
    "    \n",
    "    name=[\"NA\",\"NA\",\"NA\",\"NA\"]\n",
    "    info=item.find(\"div\",{\"class\":\"asinTitle\"}).get_text().strip().split(',')\n",
    "    for j in range(len(info)):\n",
    "        name[j]=info[j]\n",
    "    price_elements=item.find_all(\"span\",{\"class\":\"a-color-price\"})     \n",
    "    \n",
    "    prices = [\"NA\", \"NA\"]\n",
    "    for i in range(len(price_elements)):\n",
    "        prices[i] = price_elements[i].get_text().strip()\n",
    "                    \n",
    "    new_item=(name[0],name[1],name[2],name[3],prices[0],prices[1])\n",
    "    grocerylist.append(new_item)\n",
    "    \n",
    "        \n",
    "df = pd.DataFrame(grocerylist,columns=['ItemInfo1','ItemInfo2','ItemInfo3','ItemInfo4','price','unitprice'])\n",
    "print(df[1:8])\n"
   ]
  },
  {
   "cell_type": "code",
   "execution_count": 289,
   "metadata": {},
   "outputs": [
    {
     "name": "stdout",
     "output_type": "stream",
     "text": [
      "Enter items in today's receipt: 4\n"
     ]
    }
   ],
   "source": [
    "import sys\n",
    "total = eval(input(\"Enter items in today's receipt: \"))\n",
    "\n",
    "import os\n",
    "if os.path.exists(\"receipt.csv\"):\n",
    "    os.remove(\"receipt.csv\")\n",
    "else:\n",
    "    df[0:total].to_csv('receipt.csv')"
   ]
  }
 ],
 "metadata": {
  "kernelspec": {
   "display_name": "Python 3",
   "language": "python",
   "name": "python3"
  },
  "language_info": {
   "codemirror_mode": {
    "name": "ipython",
    "version": 3
   },
   "file_extension": ".py",
   "mimetype": "text/x-python",
   "name": "python",
   "nbconvert_exporter": "python",
   "pygments_lexer": "ipython3",
   "version": "3.7.2"
  }
 },
 "nbformat": 4,
 "nbformat_minor": 2
}
